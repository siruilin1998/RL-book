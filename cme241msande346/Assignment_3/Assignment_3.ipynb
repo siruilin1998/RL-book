{
 "cells": [
  {
   "cell_type": "markdown",
   "metadata": {
    "collapsed": true,
    "pycharm": {
     "name": "#%% md\n"
    }
   },
   "source": [
    "Question 1. (Deterministic policy)\n",
    "\\begin{align*}\n",
    "    V^{\\pi_{D}}(s) &= Q^{\\pi_{D}}(s, \\pi_{D}(s))\\\\\n",
    "    Q^{\\pi_{D}}(s,a) &= R(s,a) + \\gamma \\cdot \\sum_{s^\\prime} P(s,a,s^\\prime)V^{\\pi_{D}}(s^\\prime)\\\\\n",
    "    V^{\\pi_{D}}(s) &= R(s,\\pi_{D}(s)) + \\gamma \\cdot \\sum_{s^\\prime} P(s,\\pi_{D}(s),s^\\prime)V^{\\pi_{D}}(s^\\prime)\\\\\n",
    "    Q^{\\pi_{D}}(s,a) &= R(s,a) + \\gamma \\cdot \\sum_{s^\\prime} P(s,a,s^\\prime)Q^{\\pi_{D}}(s^\\prime, \\pi_{D}(s^\\prime))\n",
    "\\end{align*}"
   ]
  },
  {
   "cell_type": "markdown",
   "source": [
    "Question 2. (Bellman Equation)\n",
    "By Bellman Equation, we get\n",
    "\\begin{align*}\n",
    "    V^*(s) = \\max_{a} \\big\\{(a(1-a) + (1-a)(1+a)) + \\gamma \\cdot \\sum_{s^\\prime} a V^*(s+1) + (1-a) V^*(s) \\big\\}\n",
    "\\end{align*}\n",
    "Due to the structure of the transition probabilities, the optimal value function $V^*(s)$ should be a constant for any state $s$. Then we get\n",
    "\\begin{align*}\n",
    "    (1 - \\gamma)\\cdot V^*(s) = \\max_{a} \\big\\{(a(1-a) + (1-a)(1+a))\\big\\} = \\frac{9}{4}.\n",
    "\\end{align*}\n",
    "And thus the optimal policy is:\n",
    "\\begin{align*}\n",
    "    \\pi(s): S \\rightarrow \\mathcal{A} = \\arg\\max_{a} \\big\\{(a(1-a) + (1-a)(1+a)) \\big\\} = \\frac{1}{4}.\n",
    "\\end{align*}"
   ],
   "metadata": {
    "collapsed": false,
    "pycharm": {
     "name": "#%% md\n"
    }
   }
  },
  {
   "cell_type": "markdown",
   "source": [
    "Question 3."
   ],
   "metadata": {
    "collapsed": false
   }
  },
  {
   "cell_type": "markdown",
   "source": [
    "Question 4. (Minimize infinite-horizon cost with γ = 0)\n",
    "Since $\\gamma = 0$, we have\n",
    "\\begin{align*}\n",
    "    Q(s,a) &= E[\\exp(a s^\\prime) | s, a] \\\\\n",
    "    &= \\int_{\\mathbb{R}} \\exp(a s^\\prime) \\frac{1}{\\sqrt{2 \\pi} \\sigma} \\exp(-\\frac{(s^\\prime - s)^2}{2\\sigma^2}) d s^\\prime \\\\\n",
    "    &= \\exp(-\\frac{1}{2\\sigma^2}(s^2 - (s+ a\\sigma^2)^2)).\n",
    "\\end{align*}\n",
    "Therefore, the optimal policy is:\n",
    "\\begin{align*}\n",
    "    \\pi^*(s): S \\rightarrow \\mathcal{A} = - \\frac{s}{\\sigma^2}.\n",
    "\\end{align*}\n",
    "And the optimal cost is: $\\exp(-\\frac{s^2}{2\\sigma^2})$."
   ],
   "metadata": {
    "collapsed": false,
    "pycharm": {
     "name": "#%% md\n"
    }
   }
  }
 ],
 "metadata": {
  "kernelspec": {
   "display_name": "Python 3",
   "language": "python",
   "name": "python3"
  },
  "language_info": {
   "codemirror_mode": {
    "name": "ipython",
    "version": 2
   },
   "file_extension": ".py",
   "mimetype": "text/x-python",
   "name": "python",
   "nbconvert_exporter": "python",
   "pygments_lexer": "ipython2",
   "version": "2.7.6"
  }
 },
 "nbformat": 4,
 "nbformat_minor": 0
}