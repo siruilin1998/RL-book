{
 "cells": [
  {
   "cell_type": "code",
   "source": [
    "import numpy as np\n",
    "import itertools\n",
    "import rl.iterate as iterate\n",
    "from pprint import pprint\n",
    "from rl.distribution import Constant, Categorical\n",
    "from typing import Iterator, Iterable, Mapping\n",
    "from rl.markov_process import S"
   ],
   "metadata": {
    "collapsed": false,
    "pycharm": {
     "name": "#%%\n"
    }
   },
   "execution_count": 130,
   "outputs": []
  },
  {
   "cell_type": "markdown",
   "metadata": {
    "collapsed": true,
    "pycharm": {
     "name": "#%% md\n"
    }
   },
   "source": [
    "Question 1: (Tabular MC Prediction)"
   ]
  },
  {
   "cell_type": "code",
   "source": [
    "from rl.returns import returns\n",
    "from rl.markov_process import TransitionStep\n",
    "from rl.function_approx import X\n",
    "\n",
    "def mc_tabular_prediction(\n",
    "    traces: Iterable[Iterable[TransitionStep[S]]],\n",
    "    γ: float,\n",
    "    episode_length_tolerance: float = 1e-6\n",
    ") -> Iterator[Mapping[X,float]]:\n",
    "    episodes: Iterator[Iterator[mp.ReturnStep[S]]] = \\\n",
    "        (returns(trace, γ, episode_length_tolerance) for trace in traces) ## traces of returns of each episode\n",
    "\n",
    "    values_map: Mapping[X, float] = {}\n",
    "    counts_map: Mapping[X, int] = {}\n",
    "    count_to_weight_func: Callable[[int], float] = lambda n: 1.0 / n\n",
    "\n",
    "    yield values_map\n",
    "\n",
    "    for episode in episodes:\n",
    "        for step in episode:\n",
    "            counts_map.setdefault(step.state, 0)\n",
    "            weight: float = 1 if counts_map[step.state] == 0 else count_to_weight_func(counts_map[step.state])\n",
    "            values_map.setdefault(step.state, 0.)\n",
    "            values_map[step.state] += weight * (step.return_ - values_map[step.state])\n",
    "            counts_map[step.state] += 1\n",
    "        yield values_map"
   ],
   "metadata": {
    "collapsed": false,
    "pycharm": {
     "name": "#%%\n"
    }
   },
   "execution_count": 131,
   "outputs": []
  },
  {
   "cell_type": "markdown",
   "source": [
    "Question 2: (Tabular TD Prediction)"
   ],
   "metadata": {
    "collapsed": false,
    "pycharm": {
     "name": "#%% md\n"
    }
   }
  },
  {
   "cell_type": "code",
   "execution_count": 132,
   "outputs": [],
   "source": [
    "def td_tabular_prediction(\n",
    "    transitions: Iterable[TransitionStep[S]],\n",
    "    γ: float,\n",
    "    alph = 0.03,\n",
    "    beta = 0.5,\n",
    "    H = 1000\n",
    ") -> Iterator[Mapping[X, float]]:\n",
    "    values_map: Mapping[X, float] = {}\n",
    "    counts = 1\n",
    "    count_to_weight_func: Callable[[int], float] = lambda n: alph/(1+((n-1)/H)**beta)\n",
    "\n",
    "    yield values_map\n",
    "\n",
    "    for transition in transitions:\n",
    "        weight: float = count_to_weight_func(counts)\n",
    "        values_map.setdefault(transition.state, 0.)\n",
    "        values_map[transition.state] += weight * (transition.reward + γ * values_map.get(transition.next_state, 0.) - values_map[transition.state])\n",
    "        counts += 1\n",
    "\n",
    "        yield values_map"
   ],
   "metadata": {
    "collapsed": false,
    "pycharm": {
     "name": "#%%\n"
    }
   }
  },
  {
   "cell_type": "markdown",
   "source": [
    "Question 3: (Test new implementations of MC and TD algorithms using mrp from rl/chapter2/simple inventory mrp.py)"
   ],
   "metadata": {
    "collapsed": false,
    "pycharm": {
     "name": "#%% md\n"
    }
   }
  },
  {
   "cell_type": "code",
   "source": [
    "# Construct testing process\n",
    "from rl.markov_process import NonTerminal\n",
    "from rl.chapter2.simple_inventory_mrp import InventoryState\n",
    "from rl.chapter2.simple_inventory_mrp import SimpleInventoryMRPFinite\n",
    "from rl.markov_process import FiniteMarkovRewardProcess\n",
    "\n",
    "## Set parameters\n",
    "user_capacity = 2\n",
    "user_poisson_lambda = 1.0\n",
    "user_holding_cost = 1.0\n",
    "user_stockout_cost = 10.0\n",
    "user_gamma = 0.9\n",
    "\n",
    "si_mrp = SimpleInventoryMRPFinite(\n",
    "    capacity=user_capacity,\n",
    "    poisson_lambda=user_poisson_lambda,\n",
    "    holding_cost=user_holding_cost,\n",
    "    stockout_cost=user_stockout_cost\n",
    ")\n",
    "Test_Process = FiniteMarkovRewardProcess(\n",
    "        si_mrp.get_transition_reward_map()\n",
    "    )\n",
    "\n",
    "# test using MC in the BOOK\n",
    "from rl.function_approx import Tabular, FunctionApprox\n",
    "from rl.monte_carlo import mc_prediction\n",
    "from rl.approximate_dynamic_programming import ValueFunctionApprox\n",
    "from rl.markov_process import TransitionStep\n",
    "\n",
    "user_episode_length = 100\n",
    "user_num_episodes = 100\n",
    "Initial_InventoryState = NonTerminal(InventoryState(0,0))\n",
    "\n",
    "pred_mc: Iterator[ValueFunctionApprox[S]] = mc_prediction(\n",
    "         traces = si_mrp.reward_traces(Constant(Initial_InventoryState)),\n",
    "         approx_0 = Tabular(),\n",
    "         γ = user_gamma\n",
    ")\n",
    "pred_mc_tabular: ValueFunctionApprox[S] \\\n",
    "    = iterate.last(itertools.islice(pred_mc, user_num_episodes))\n",
    "\n",
    "print(\"Tabular MC in book\")\n",
    "pprint({s: pred_mc_tabular(s) for s in Test_Process.non_terminal_states})\n",
    "pred_mc_test: Iterator[ValueFunctionApprox[S]] = mc_tabular_prediction(\n",
    "              traces = si_mrp.reward_traces(Constant(Initial_InventoryState)),\n",
    "              γ = user_gamma\n",
    ")\n",
    "pred_mc_tabular_test: Mapping[X, float] \\\n",
    "    = iterate.last(itertools.islice(pred_mc_test, user_num_episodes))\n",
    "\n",
    "print(\"Self-made Tabular MC\")\n",
    "pprint({s: pred_mc_tabular_test[s].item() for s in Test_Process.non_terminal_states})"
   ],
   "metadata": {
    "collapsed": false,
    "pycharm": {
     "name": "#%%\n"
    }
   },
   "execution_count": 133,
   "outputs": [
    {
     "name": "stdout",
     "output_type": "stream",
     "text": [
      "Tabular MC in book\n",
      "{NonTerminal(state=InventoryState(on_hand=2, on_order=0)): -30.379297688171324,\n",
      " NonTerminal(state=InventoryState(on_hand=1, on_order=0)): -28.88618045547448,\n",
      " NonTerminal(state=InventoryState(on_hand=0, on_order=1)): -27.921721037184003,\n",
      " NonTerminal(state=InventoryState(on_hand=0, on_order=0)): -35.63595660535119,\n",
      " NonTerminal(state=InventoryState(on_hand=0, on_order=2)): -28.48367471271226,\n",
      " NonTerminal(state=InventoryState(on_hand=1, on_order=1)): -29.280296765256875}\n",
      "Self-made Tabular MC\n",
      "{NonTerminal(state=InventoryState(on_hand=2, on_order=0)): -30.54749029271724,\n",
      " NonTerminal(state=InventoryState(on_hand=1, on_order=0)): -29.064033740000188,\n",
      " NonTerminal(state=InventoryState(on_hand=0, on_order=1)): -28.071514157450466,\n",
      " NonTerminal(state=InventoryState(on_hand=0, on_order=0)): -35.62943132343653,\n",
      " NonTerminal(state=InventoryState(on_hand=0, on_order=2)): -28.503610819721416,\n",
      " NonTerminal(state=InventoryState(on_hand=1, on_order=1)): -29.517518528757908}\n"
     ]
    }
   ]
  },
  {
   "cell_type": "code",
   "execution_count": 129,
   "outputs": [
    {
     "name": "stdout",
     "output_type": "stream",
     "text": [
      "Tabular TD in book\n",
      "{NonTerminal(state=InventoryState(on_hand=0, on_order=1)): -27.622525584801767,\n",
      " NonTerminal(state=InventoryState(on_hand=1, on_order=0)): -28.736294972889755,\n",
      " NonTerminal(state=InventoryState(on_hand=1, on_order=1)): -28.852091192324906,\n",
      " NonTerminal(state=InventoryState(on_hand=0, on_order=0)): -35.33290263519442,\n",
      " NonTerminal(state=InventoryState(on_hand=2, on_order=0)): -30.108707084693147,\n",
      " NonTerminal(state=InventoryState(on_hand=0, on_order=2)): -28.272061703808046}\n",
      "Self-made Tabular TD\n",
      "{NonTerminal(state=InventoryState(on_hand=0, on_order=1)): -27.872969704985923,\n",
      " NonTerminal(state=InventoryState(on_hand=1, on_order=0)): -28.881735923742305,\n",
      " NonTerminal(state=InventoryState(on_hand=1, on_order=1)): -29.228925351270824,\n",
      " NonTerminal(state=InventoryState(on_hand=0, on_order=0)): -35.49517804806315,\n",
      " NonTerminal(state=InventoryState(on_hand=2, on_order=0)): -30.37348401033258,\n",
      " NonTerminal(state=InventoryState(on_hand=0, on_order=2)): -28.336314112690246}\n"
     ]
    }
   ],
   "source": [
    "# test using TD in the BOOK\n",
    "from rl.td import td_prediction\n",
    "\n",
    "user_episode_length = 100\n",
    "user_num_episodes = 1000\n",
    "\n",
    "# parameters in learning rate\n",
    "alph = 0.03\n",
    "beta = 0.5\n",
    "H = 1000\n",
    "\n",
    "pred_td: Iterator[ValueFunctionApprox[S]] = td_prediction(\n",
    "         transitions = si_mrp.simulate_reward(Constant(Initial_InventoryState)),\n",
    "         approx_0 = Tabular(count_to_weight_func = lambda n: alph/(1+((n-1)/H)**beta)),\n",
    "         γ = user_gamma)\n",
    "pred_td_tabular: ValueFunctionApprox[S] \\\n",
    "    = iterate.last(itertools.islice(pred_td, user_episode_length * user_num_episodes))\n",
    "\n",
    "print(\"Tabular TD in book\")\n",
    "pprint({s: pred_td_tabular(s) for s in Test_Process.non_terminal_states})\n",
    "\n",
    "pred_td_test: Iterator[ValueFunctionApprox[S]] = td_tabular_prediction(\n",
    "              transitions = si_mrp.simulate_reward(Constant(Initial_InventoryState)),\n",
    "              γ = user_gamma)\n",
    "pred_td_tabular_test: Mapping[X, float] \\\n",
    "    = iterate.last(itertools.islice(pred_td_test, user_episode_length * user_num_episodes))\n",
    "\n",
    "print(\"Self-made Tabular TD\")\n",
    "pprint({s: pred_td_tabular_test[s].item() for s in Test_Process.non_terminal_states})"
   ],
   "metadata": {
    "collapsed": false,
    "pycharm": {
     "name": "#%%\n"
    }
   }
  }
 ],
 "metadata": {
  "kernelspec": {
   "display_name": "Python 3",
   "language": "python",
   "name": "python3"
  },
  "language_info": {
   "codemirror_mode": {
    "name": "ipython",
    "version": 2
   },
   "file_extension": ".py",
   "mimetype": "text/x-python",
   "name": "python",
   "nbconvert_exporter": "python",
   "pygments_lexer": "ipython2",
   "version": "2.7.6"
  }
 },
 "nbformat": 4,
 "nbformat_minor": 0
}