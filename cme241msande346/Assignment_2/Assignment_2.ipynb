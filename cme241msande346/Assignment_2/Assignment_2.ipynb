{
 "cells": [
  {
   "cell_type": "markdown",
   "source": [
    "Question 1. (Snakes and Ladders)\n",
    "The state space will be the gridded squares excluding the heads of snakes and ladders. The structure of transition probabilities is that every time you reach a new grid, you will have uniform probabilities to transit to another 6 girds (except for special grids such as the ones close to the end)."
   ],
   "metadata": {
    "collapsed": false
   }
  },
  {
   "cell_type": "markdown",
   "source": [
    "Question 2.\n",
    "For example, for a game board like this:"
   ],
   "metadata": {
    "collapsed": false,
    "pycharm": {
     "name": "#%% md\n"
    }
   }
  },
  {
   "cell_type": "code",
   "execution_count": 2,
   "outputs": [
    {
     "data": {
      "text/html": "<img src=\"board.jpg\" width=\"300\" height=\"300\"/>",
      "text/plain": "<IPython.core.display.Image object>"
     },
     "execution_count": 2,
     "metadata": {},
     "output_type": "execute_result"
    }
   ],
   "source": [
    "# import image module\n",
    "from IPython.display import Image\n",
    "\n",
    "# get the image\n",
    "Image(url=\"board.jpg\", width=300, height=300)"
   ],
   "metadata": {
    "collapsed": false,
    "pycharm": {
     "name": "#%%\n"
    }
   }
  },
  {
   "cell_type": "markdown",
   "source": [
    "Then we create the transition map for this game."
   ],
   "metadata": {
    "collapsed": false,
    "pycharm": {
     "name": "#%% md\n"
    }
   }
  },
  {
   "cell_type": "code",
   "source": [
    "from typing import Mapping, Iterable, Iterator,Sequence\n",
    "from rl.markov_process import S, FiniteMarkovProcess\n",
    "from rl.distribution import FiniteDistribution, Categorical, Constant\n",
    "import itertools\n",
    "import rl.iterate as iterate\n",
    "\n",
    "transition_map: Mapping[S, FiniteDistribution[S]] = {\n",
    "    1: Categorical({2: 1/3, 3: 1/6, 7: 1/3, 6: 1/6}),\n",
    "    2: Categorical({3: 1/6, 2: 1/6, 7: 1/3, 6: 1/3}),\n",
    "    3: Categorical({2: 1/6, 7: 1/3, 6: 1/3, 9: 1/6}),\n",
    "    6: Categorical({7: 1/6, 6: 1/6, 9: 2/3}),\n",
    "    7: Categorical({6: 1/6, 9: 5/6})\n",
    "}\n",
    "\n",
    "snakes_and_ladders: FiniteMarkovProcess = FiniteMarkovProcess(transition_map)\n",
    "ini_dist: FiniteDistribution = Constant(snakes_and_ladders.non_terminal_states[0])\n",
    "finish_time: Sequence[int] = []\n",
    "num_play: int = 10000\n",
    "\n",
    "def count_iterable(i: Iterable):\n",
    "    return sum(1 for e in i)\n",
    "\n",
    "def episodes_length(traces: Iterable[Iterable[S]]) -> Iterable[int]:\n",
    "    for trace in traces:\n",
    "        yield count_iterable(trace)\n",
    "\n",
    "traces: Iterable[Iterable[S]] = snakes_and_ladders.traces(ini_dist)\n",
    "finish: Iterator[int] = itertools.islice(episodes_length(traces), num_play)\n",
    "finish_time = list(finish)\n",
    "\n",
    "import numpy as np\n",
    "import matplotlib.pyplot as plt\n",
    "\n",
    "n, bins, patches = plt.hist(x = finish_time,\n",
    "                            bins = range(3,12),\n",
    "                            density=True,\n",
    "                            facecolor='g',\n",
    "                            alpha=0.5)\n",
    "plt.grid(axis='y')\n",
    "plt.xlabel('Finish time')\n",
    "plt.ylabel('Frequency')\n",
    "plt.title('Distribution: finish time of the game')"
   ],
   "metadata": {
    "collapsed": false,
    "pycharm": {
     "name": "#%%\n"
    }
   },
   "execution_count": null,
   "outputs": []
  },
  {
   "cell_type": "markdown",
   "source": [
    "Question 3.\n",
    "Set $E_{10} = 0$, which is the trivial step you need to jump from $10$ to $10$. Then actually we have\n",
    "\\begin{align*}\n",
    "    E_{i} = \\frac{1}{10 - i}\\sum_{j = i + 1}^{10} E_{j} + 1\n",
    "\\end{align*}"
   ],
   "metadata": {
    "collapsed": false,
    "pycharm": {
     "name": "#%% md\n"
    }
   }
  },
  {
   "cell_type": "code",
   "execution_count": 59,
   "outputs": [
    {
     "name": "stdout",
     "output_type": "stream",
     "text": [
      "[0, 1.0, 1.5, 1.8333333333333335, 2.0833333333333335, 2.2833333333333337, 2.45, 2.5928571428571434, 2.7178571428571434, 2.828968253968254, 2.9289682539682547]\n"
     ]
    }
   ],
   "source": [
    "F = [0] #F_{j} = E_{10 - j}\n",
    "for i in range(1, 11):\n",
    "    F += [1 + sum(F[:i])/i]\n",
    "print(F)"
   ],
   "metadata": {
    "collapsed": false,
    "pycharm": {
     "name": "#%%\n"
    }
   }
  },
  {
   "cell_type": "markdown",
   "source": [
    "Question 4.\n",
    "We can set the reward function to be one every time we roll a dice and use the value function to represent the expected finishing time of the game."
   ],
   "metadata": {
    "collapsed": false,
    "pycharm": {
     "name": "#%% md\n"
    }
   }
  },
  {
   "cell_type": "code",
   "source": [
    "from collections import defaultdict\n",
    "from rl.markov_process import FiniteMarkovRewardProcess\n",
    "reward_map: Mapping[int, Mapping[int, int]] = {\n",
    "    1: Categorical({(2,1): 1/3, (3,1): 1/6, (7,1): 1/3, (6,1): 1/6}),\n",
    "    2: Categorical({(3,1): 1/6, (2,1): 1/6, (7,1): 1/3, (6,1): 1/3}),\n",
    "    3: Categorical({(2,1): 1/6, (7,1): 1/3, (6,1): 1/3, (9,1): 1/6}),\n",
    "    6: Categorical({(7,1): 1/6, (6,1): 1/6, (9,1): 2/3}),\n",
    "    7: Categorical({(6,1): 1/6, (9,1): 5/6})\n",
    "}\n",
    "\n",
    "snakes_and_ladders_mrp: FiniteMarkovRewardProcess = FiniteMarkovRewardProcess(reward_map)\n",
    "snakes_and_ladders_mrp.display_value_function(gamma=1.)"
   ],
   "metadata": {
    "collapsed": false,
    "pycharm": {
     "name": "#%%\n"
    }
   },
   "execution_count": 61,
   "outputs": [
    {
     "name": "stdout",
     "output_type": "stream",
     "text": [
      "{NonTerminal(state=1): 2.963,\n",
      " NonTerminal(state=2): 2.747,\n",
      " NonTerminal(state=3): 2.354,\n",
      " NonTerminal(state=6): 1.448,\n",
      " NonTerminal(state=7): 1.241}\n"
     ]
    }
   ]
  }
 ],
 "metadata": {
  "kernelspec": {
   "display_name": "Python 3",
   "language": "python",
   "name": "python3"
  },
  "language_info": {
   "codemirror_mode": {
    "name": "ipython",
    "version": 2
   },
   "file_extension": ".py",
   "mimetype": "text/x-python",
   "name": "python",
   "nbconvert_exporter": "python",
   "pygments_lexer": "ipython2",
   "version": "2.7.6"
  }
 },
 "nbformat": 4,
 "nbformat_minor": 0
}