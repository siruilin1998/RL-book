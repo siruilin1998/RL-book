{
 "cells": [
  {
   "cell_type": "markdown",
   "metadata": {
    "collapsed": true,
    "pycharm": {
     "name": "#%% md\n"
    }
   },
   "source": [
    "Question 3"
   ]
  },
  {
   "cell_type": "markdown",
   "source": [
    "3.1 Proof. We have\n",
    "\\begin{align*}\n",
    "    \\nabla_{\\mathbf{\\theta}}\\log\\pi(s,a;\\mathbf{\\theta})\n",
    "    = \\frac{\\nabla_{\\mathbf{\\theta}}\\pi(s,a;\\mathbf{\\theta})}{\\pi(s,a;\\mathbf{\\theta})},\n",
    "\\end{align*}\n",
    "where\n",
    "\\begin{align*}\n",
    "    \\nabla_{\\mathbf{\\theta}}\\pi(s,a;\\mathbf{\\theta}) = \\exp(\\mathbf{\\phi}(s,a)^\\top\\mathbf{\\theta})\\cdot\n",
    "    \\frac{\\sum_{b\\in\\mathcal{A}}\\exp(\\mathbf{\\phi}(s,b)^\\top\\mathbf{\\theta})\\cdot(\\mathbf{\\phi}(s,a) - \\mathbf{\\phi}(s,b))}{\\big(\\sum_{b\\in\\mathcal{A}}\\exp(\\mathbf{\\phi}(s,b)^\\top\\mathbf{\\theta})\\big)^2}.\n",
    "\\end{align*}\n",
    "Therefore, we get\n",
    "\\begin{align*}\n",
    "    \\nabla_{\\mathbf{\\theta}}\\log\\pi(s,a;\\mathbf{\\theta}) =\n",
    "    \\frac{\\sum_{b\\in\\mathcal{A}}\\exp(\\mathbf{\\phi}(s,b)^\\top\\mathbf{\\theta})\\cdot(\\mathbf{\\phi}(s,a) - \\mathbf{\\phi}(s,b))}{\\sum_{b\\in\\mathcal{A}}\\exp(\\mathbf{\\phi}(s,b)^\\top\\mathbf{\\theta})}.\n",
    "\\end{align*}"
   ],
   "metadata": {
    "collapsed": false
   }
  },
  {
   "cell_type": "markdown",
   "source": [
    "3.2 Proof. We can construct in this way:\n",
    "\\begin{align*}\n",
    "    Q(s,a;\\mathbf{w}) =  \\nabla_{\\mathbf{\\theta}}\\log\\pi(s,a;\\mathbf{\\theta})^\\top \\mathbf{w}.\n",
    "\\end{align*}"
   ],
   "metadata": {
    "collapsed": false,
    "pycharm": {
     "name": "#%% md\n"
    }
   }
  },
  {
   "cell_type": "markdown",
   "source": [
    "3.3 Proof. We take the derivative of the left-hand side of the equation:\n",
    "\\begin{align*}\n",
    "    \\nabla_{\\mathbf{w}}\\sum_{a\\in\\mathcal{A}}\\pi(s,a;\\mathbf{\\theta})\\cdot Q(s,a;\\mathbf{w})\n",
    "    &= \\sum_{a\\in\\mathcal{A}}\\pi(s,a;\\mathbf{\\theta})\\cdot \\nabla_{\\mathbf{w}}Q(s,a;\\mathbf{w})\\\\\n",
    "    &=\n",
    "    \\sum_{a\\in\\mathcal{A}}\\pi(s,a;\\mathbf{\\theta})\\cdot\\nabla_{\\mathbf{\\theta}}\\log\\pi(s,a;\\mathbf{\\theta})\\\\\n",
    "    &= \\sum_{a\\in\\mathcal{A}}\\nabla_{\\mathbf{\\theta}}\\pi(s,a;\\mathbf{\\theta})\\\\\n",
    "    &= \\nabla_{\\mathbf{\\theta}}\\sum_{a\\in\\mathcal{A}}\\pi(s,a;\\mathbf{\\theta})\\\\\n",
    "    &= \\nabla_{\\mathbf{\\theta}}~1 = 0.\n",
    "\\end{align*}\n",
    "Then observe that the $Q(s,a;\\mathbf{w})$ we construct in 3.2 satisfies $Q(s,a; \\mathbf{0}) = 0$, we get that $Q(s,a;\\mathbf{w})$ has mean zero for any $\\mathbf{w}, s\\in \\mathcal{N}$."
   ],
   "metadata": {
    "collapsed": false,
    "pycharm": {
     "name": "#%% md\n"
    }
   }
  }
 ],
 "metadata": {
  "kernelspec": {
   "display_name": "Python 3",
   "language": "python",
   "name": "python3"
  },
  "language_info": {
   "codemirror_mode": {
    "name": "ipython",
    "version": 2
   },
   "file_extension": ".py",
   "mimetype": "text/x-python",
   "name": "python",
   "nbconvert_exporter": "python",
   "pygments_lexer": "ipython2",
   "version": "2.7.6"
  }
 },
 "nbformat": 4,
 "nbformat_minor": 0
}