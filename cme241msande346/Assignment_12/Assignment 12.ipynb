{
 "cells": [
  {
   "cell_type": "code",
   "source": [
    "from typing import Iterator, Iterable, Mapping, Sequence, Tuple\n",
    "from rl.markov_process import TransitionStep, S\n",
    "from rl.function_approx import X"
   ],
   "metadata": {
    "collapsed": false,
    "pycharm": {
     "name": "#%%\n"
    }
   },
   "execution_count": 58,
   "outputs": []
  },
  {
   "cell_type": "markdown",
   "metadata": {
    "collapsed": true,
    "pycharm": {
     "name": "#%% md\n"
    }
   },
   "source": [
    "Question 2.a. (Tabular TD(λ))"
   ]
  },
  {
   "cell_type": "code",
   "source": [
    "def td_lambda_tabular_prediction(\n",
    "        transitions: Iterable[TransitionStep[S]],\n",
    "        γ: float,\n",
    "        λ: float,\n",
    "        alpha = 0.03,\n",
    "        beta = 0.5,\n",
    "        H = 1000\n",
    ") -> Iterator[Mapping[X, float]]:\n",
    "    values_map: Mapping[X, float] = {}\n",
    "    eligibility: Mapping[X,float] = {}\n",
    "    eligibility_help: Mapping[X,int] = {} #record last time this transition.state comes\n",
    "    counts:int = 1\n",
    "    count_to_weight_func: Callable[[int], float] = lambda n: alph/(1+((n-1)/H)**beta)\n",
    "\n",
    "    yield values_map\n",
    "\n",
    "    for transition in transitions:\n",
    "        weight:float = count_to_weight_func(counts)\n",
    "\n",
    "        ##update eligibility\n",
    "        eligibility.setdefault(transition.state, 0.)\n",
    "        eligibility_help.setdefault(transition.state, 0)\n",
    "        eligibility[transition.state] *= (γ * λ) ** (counts - eligibility_help[transition.state])\n",
    "        eligibility[transition.state] += 1\n",
    "\n",
    "        ##update values_map\n",
    "        values_map.setdefault(transition.state, 0.)\n",
    "        values_map[transition.state] += weight * (transition.reward + γ * values_map.get(transition.next_state, 0.) - values_map[transition.state]) * eligibility[transition.state]\n",
    "\n",
    "        counts += 1\n",
    "        eligibility_help[transition.state] = counts\n",
    "\n",
    "        yield values_map"
   ],
   "metadata": {
    "collapsed": false,
    "pycharm": {
     "name": "#%%\n"
    }
   },
   "execution_count": 48,
   "outputs": []
  },
  {
   "cell_type": "markdown",
   "source": [
    "Question 2.b. (Function Approx TD(λ))"
   ],
   "metadata": {
    "collapsed": false,
    "pycharm": {
     "name": "#%% md\n"
    }
   }
  },
  {
   "cell_type": "code",
   "execution_count": 45,
   "outputs": [],
   "source": [
    "import rl.markov_process as mp\n",
    "import numpy as np\n",
    "from rl.function_approx import Gradient\n",
    "from rl.approximate_dynamic_programming import ValueFunctionApprox\n",
    "from rl.approximate_dynamic_programming import extended_vf\n",
    "\n",
    "def td_FuncApprox_lambda_prediction(\n",
    "        transitions: Iterable[mp.TransitionStep[S]],\n",
    "        approx_0: ValueFunctionApprox[S],\n",
    "        γ: float,\n",
    "        λ: float\n",
    ") -> Iterator[ValueFunctionApprox[S]]:\n",
    "    func_approx: ValueFunctionApprox[S] = approx_0\n",
    "    yield func_approx\n",
    "\n",
    "    for transition in transitions:\n",
    "        eligibility_trace: Gradient[ValueFunctionApprox[S]] = Gradient(func_approx).zero()\n",
    "        delta: float = func_approx(transition.state) \\\n",
    "                - (transition.reward + γ * extended_vf(func_approx, transition.next_state))\n",
    "\n",
    "        ##update eligibility trace (get the \"derivative\")\n",
    "        eligibility_trace *= (γ * λ)\n",
    "        eligibility_trace += func_approx.objective_gradient(\n",
    "            xy_vals_seq=[(transition.state, 0)],\n",
    "            obj_deriv_out_fun=lambda x1, y1: np.ones(len(x1)))\n",
    "\n",
    "        ##update func_approx (with the \"derivative\")\n",
    "        func_approx = func_approx.update_with_gradient(\n",
    "            eligibility_trace * delta)\n",
    "\n",
    "        yield func_approx"
   ],
   "metadata": {
    "collapsed": false,
    "pycharm": {
     "name": "#%%\n"
    }
   }
  },
  {
   "cell_type": "markdown",
   "source": [
    "Question 3. (Proof)\n",
    "By definition, we have $G_t = \\sum_{u = t}^{T-1} \\gamma^{u - t}\\cdot R_{u+1}$. Then observe that the remaining terms on the righthand side is actually a telescope sum:\n",
    "\\begin{align}\n",
    "    \\sum_{u = t}^{T-1} (\\gamma^{u - t + 1}\\cdot V(S_{u + 1}) - \\gamma^{u - t}\\cdot V(S_{u})) = \\gamma^{T-t\n",
    "    }\\cdot V(S_T) - V(S_t) = - V(S_t).\n",
    "\\end{align}\n",
    "Combine these two equations together, we have proved the provided formula."
   ],
   "metadata": {
    "collapsed": false
   }
  },
  {
   "cell_type": "markdown",
   "source": [
    "Question 4. (Compare different algorithms)"
   ],
   "metadata": {
    "collapsed": false
   }
  },
  {
   "cell_type": "code",
   "source": [
    "# Construct testing process\n",
    "from rl.markov_process import NonTerminal\n",
    "from rl.chapter2.simple_inventory_mrp import InventoryState\n",
    "from rl.chapter2.simple_inventory_mrp import SimpleInventoryMRPFinite\n",
    "from rl.markov_process import FiniteMarkovRewardProcess\n",
    "\n",
    "## Set parameters\n",
    "user_capacity = 2\n",
    "user_poisson_lambda = 1.0\n",
    "user_holding_cost = 1.0\n",
    "user_stockout_cost = 10.0\n",
    "user_gamma = 0.9\n",
    "\n",
    "si_mrp = SimpleInventoryMRPFinite(\n",
    "    capacity=user_capacity,\n",
    "    poisson_lambda=user_poisson_lambda,\n",
    "    holding_cost=user_holding_cost,\n",
    "    stockout_cost=user_stockout_cost\n",
    ")\n",
    "\n",
    "Initial_InventoryState = NonTerminal(InventoryState(0,0))"
   ],
   "metadata": {
    "collapsed": false,
    "pycharm": {
     "name": "#%%\n"
    }
   },
   "execution_count": 46,
   "outputs": []
  },
  {
   "cell_type": "code",
   "execution_count": 49,
   "outputs": [
    {
     "name": "stdout",
     "output_type": "stream",
     "text": [
      "Tabular TD in book\n",
      "{NonTerminal(state=InventoryState(on_hand=0, on_order=0)): -35.557116730012254,\n",
      " NonTerminal(state=InventoryState(on_hand=0, on_order=2)): -28.15015164377261,\n",
      " NonTerminal(state=InventoryState(on_hand=1, on_order=1)): -29.24635777366274,\n",
      " NonTerminal(state=InventoryState(on_hand=0, on_order=1)): -27.993544994405543,\n",
      " NonTerminal(state=InventoryState(on_hand=1, on_order=0)): -28.966474319976125,\n",
      " NonTerminal(state=InventoryState(on_hand=2, on_order=0)): -30.50149169609973}\n",
      "Self-made Tabular TD(λ)\n",
      "{NonTerminal(state=InventoryState(on_hand=0, on_order=0)): -35.546839206847224,\n",
      " NonTerminal(state=InventoryState(on_hand=0, on_order=2)): -28.426661965027535,\n",
      " NonTerminal(state=InventoryState(on_hand=1, on_order=1)): -29.56544812505303,\n",
      " NonTerminal(state=InventoryState(on_hand=0, on_order=1)): -27.991963238015185,\n",
      " NonTerminal(state=InventoryState(on_hand=1, on_order=0)): -28.886156803257233,\n",
      " NonTerminal(state=InventoryState(on_hand=2, on_order=0)): -30.449103010222608}\n",
      "Self-made FuncApprox TD(λ)\n",
      "{NonTerminal(state=InventoryState(on_hand=0, on_order=0)): -35.56307944125445,\n",
      " NonTerminal(state=InventoryState(on_hand=0, on_order=2)): -28.353079367540825,\n",
      " NonTerminal(state=InventoryState(on_hand=1, on_order=1)): -28.961401759602868,\n",
      " NonTerminal(state=InventoryState(on_hand=0, on_order=1)): -27.70332952118801,\n",
      " NonTerminal(state=InventoryState(on_hand=1, on_order=0)): -28.817576842391023,\n",
      " NonTerminal(state=InventoryState(on_hand=2, on_order=0)): -30.267873268184164}\n"
     ]
    }
   ],
   "source": [
    "# test using TD in the BOOK\n",
    "from rl.td import td_prediction\n",
    "from rl.distribution import Constant\n",
    "from rl.function_approx import Tabular\n",
    "import rl.iterate as iterate\n",
    "import itertools\n",
    "from pprint import pprint\n",
    "\n",
    "user_episode_length = 100\n",
    "user_num_episodes = 1000\n",
    "\n",
    "user_lambda = 0.3\n",
    "\n",
    "# parameters in learning rate\n",
    "alph = 0.03\n",
    "beta = 0.5\n",
    "H = 1000\n",
    "\n",
    "pred_td: Iterator[ValueFunctionApprox[S]] = td_prediction(\n",
    "         transitions = si_mrp.simulate_reward(Constant(Initial_InventoryState)),\n",
    "         approx_0 = Tabular(count_to_weight_func = lambda n: alph/(1+((n-1)/H)**beta)),\n",
    "         γ = user_gamma)\n",
    "pred_td_tabular: ValueFunctionApprox[S] \\\n",
    "    = iterate.last(itertools.islice(pred_td, user_episode_length * user_num_episodes))\n",
    "\n",
    "print(\"Tabular TD in book\")\n",
    "pprint({s: pred_td_tabular(s) for s in si_mrp.non_terminal_states})\n",
    "\n",
    "pred_td_lambda_test: Iterator[ValueFunctionApprox[S]] = td_lambda_tabular_prediction(\n",
    "                     transitions = si_mrp.simulate_reward(Constant(Initial_InventoryState)),\n",
    "                     γ = user_gamma,\n",
    "                     λ = user_lambda\n",
    ")\n",
    "pred_td_lambda_tabular_test: Mapping[X, float] \\\n",
    "    = iterate.last(itertools.islice(pred_td_lambda_test, user_episode_length * user_num_episodes))\n",
    "\n",
    "print(\"Self-made Tabular TD(λ)\")\n",
    "pprint({s: pred_td_lambda_tabular_test[s] for s in si_mrp.non_terminal_states})\n",
    "\n",
    "pred_td_lambda_FuncApprox: Iterator[ValueFunctionApprox[S]] = td_FuncApprox_lambda_prediction(\n",
    "                     transitions = si_mrp.simulate_reward(Constant(Initial_InventoryState)),\n",
    "                     approx_0 = Tabular(count_to_weight_func = lambda n: alph/(1+((n-1)/H)**beta)),\n",
    "                     γ = user_gamma,\n",
    "                     λ = user_lambda\n",
    ")\n",
    "pred_td_lambda_FuncApprox_test: Mapping[X, float] \\\n",
    "    = iterate.last(itertools.islice(pred_td_lambda_FuncApprox, user_episode_length * user_num_episodes))\n",
    "\n",
    "print(\"Self-made FuncApprox TD(λ)\")\n",
    "pprint({s: pred_td_lambda_FuncApprox_test(s) for s in si_mrp.non_terminal_states})"
   ],
   "metadata": {
    "collapsed": false,
    "pycharm": {
     "name": "#%%\n"
    }
   }
  },
  {
   "cell_type": "code",
   "execution_count": 70,
   "outputs": [
    {
     "data": {
      "text/plain": "<Figure size 792x504 with 1 Axes>",
      "image/png": "[encoded data removed]"
     },
     "metadata": {
      "needs_background": "light"
     },
     "output_type": "display_data"
    }
   ],
   "source": [
    "\n",
    "# plot graphs of convergence for different λ\n",
    "import numpy as np\n",
    "from rl.gen_utils.plot_funcs import plot_list_of_curves\n",
    "\n",
    "test_lamb: Sequence[float] = [0.05, 0.3, 0.8]\n",
    "rmse_values: Sequence[Sequence[float]] = []\n",
    "\n",
    "for lamb in test_lamb:\n",
    "    pred_td_lambda_compare: Iterator[ValueFunctionApprox[S]] = td_FuncApprox_lambda_prediction(\n",
    "                            transitions = si_mrp.simulate_reward(Constant(Initial_InventoryState)),\n",
    "                            approx_0 = Tabular(count_to_weight_func = lambda n: alph/(1+((n-1)/H)**beta)),\n",
    "                            γ = user_gamma,\n",
    "                            λ = lamb\n",
    "    )\n",
    "\n",
    "    rmse:Sequence[float] = []\n",
    "    pred_next = next(pred_td_lambda_compare)\n",
    "    for _ in range(user_episode_length * user_num_episodes):\n",
    "        pred_next = next(pred_td_lambda_compare)\n",
    "        xy_vals_seq: Sequence[Tuple[X,float]] = [(key, pred_td_lambda_FuncApprox_test(key))\n",
    "                       for key in pred_next.values_map.keys()]\n",
    "        rmse.append(pred_next.rmse(xy_vals_seq = xy_vals_seq))\n",
    "\n",
    "    rmse_values.append(rmse)\n",
    "\n",
    "plot_list_of_curves(\n",
    "        [range(user_episode_length * user_num_episodes)] * 3,\n",
    "        [rmse_values[0], rmse_values[1], rmse_values[2]],\n",
    "        [\"r\", \"b\", \"g\"],\n",
    "        [\n",
    "            r\"Convergence 1 ($\\lambda_1=0.05$)\",\n",
    "            r\"Convergence 2 ($\\lambda_2=0.3$)\",\n",
    "            r\"Convergence 3 ($\\lambda_3=0.8$)\"\n",
    "        ],\n",
    "        \"Time Steps\",\n",
    "        \"RMSE\",\n",
    "        \"Convergence graphs for Different Values of Lambda\"\n",
    "    )"
   ],
   "metadata": {
    "collapsed": false,
    "pycharm": {
     "name": "#%%\n"
    }
   }
  },
  {
   "cell_type": "markdown",
   "source": [],
   "metadata": {
    "collapsed": false
   }
  }
 ],
 "metadata": {
  "kernelspec": {
   "display_name": "Python 3",
   "language": "python",
   "name": "python3"
  },
  "language_info": {
   "codemirror_mode": {
    "name": "ipython",
    "version": 2
   },
   "file_extension": ".py",
   "mimetype": "text/x-python",
   "name": "python",
   "nbconvert_exporter": "python",
   "pygments_lexer": "ipython2",
   "version": "2.7.6"
  }
 },
 "nbformat": 4,
 "nbformat_minor": 0
}