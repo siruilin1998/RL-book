{
 "cells": [
  {
   "cell_type": "markdown",
   "metadata": {
    "collapsed": true,
    "pycharm": {
     "name": "#%% md\n"
    }
   },
   "source": [
    "Question 1.\n",
    "(1). By Bellman Equation, we have\n",
    "\\begin{align}\n",
    "    &q_1(s_1, a_1) = 8 + 0.2 * 10 + 0.6 * 1 = 10.6,\\\\\n",
    "    &q_1(s_1, a_2) = 10 + 0.1 * 10 + 0.2 * 1 = 11.2,\\\\\n",
    "    &q_1(s_2, a_1) = 1 + 0.3 * 10 + 0.3 * 1 = 4.3,\\\\\n",
    "    &q_1(s_2, a_2) = -1 + 0.5 * 10 + 0.3 * 1 = 4.3,\\\\\n",
    "    &v_1(s_1) = 11.2, \\pi_1(s_1) = a_2,\\\\\n",
    "    &v_1(s_2) = 4.3, \\pi_2(s_2) = a_1.\n",
    "\\end{align}\n",
    "For the second iteration,\n",
    "\\begin{align*}\n",
    "    &q_2(s_1, a_1) = 8 + 0.2 * 11.2 + 0.6 * 4.3 = 12.82,\\\\\n",
    "    &q_2(s_1, a_2) = 10 + 0.1 * 11.2 + 0.2 * 4.3 = 11.98,\\\\\n",
    "    &q_2(s_2, a_1) = 1 + 0.3 * 11.2 + 0.3 * 4.3 = 5.65,\\\\\n",
    "    &q_2(s_2, a_2) = -1 + 0.5 * 11.2 + 0.3 * 4.3 = 5.89,\\\\\n",
    "    &v_1(s_1) = 12.82, \\pi_2(s_1) = a_1,\\\\\n",
    "    &v_1(s_2) = 5.89, \\pi_2(s_2) = a_2.\n",
    "\\end{align*}\n",
    "(2) Now we argue that\n",
    "\\begin{align}\n",
    "    \\pi^*(s_1) = a_1, \\pi^*(s_2) = a_2.\n",
    "\\end{align}\n",
    "This is because the value function increases after each iteration and by the structure of transition probabilities, we see that the optimal policy will never change after iteration $k = 2$."
   ]
  },
  {
   "cell_type": "markdown",
   "source": [
    "Question 4. (Two-Stores Inventory Control)"
   ],
   "metadata": {
    "collapsed": false,
    "pycharm": {
     "name": "#%% md\n"
    }
   }
  },
  {
   "cell_type": "code",
   "execution_count": null,
   "outputs": [],
   "source": [],
   "metadata": {
    "collapsed": false,
    "pycharm": {
     "name": "#%%\n"
    }
   }
  }
 ],
 "metadata": {
  "kernelspec": {
   "display_name": "Python 3",
   "language": "python",
   "name": "python3"
  },
  "language_info": {
   "codemirror_mode": {
    "name": "ipython",
    "version": 2
   },
   "file_extension": ".py",
   "mimetype": "text/x-python",
   "name": "python",
   "nbconvert_exporter": "python",
   "pygments_lexer": "ipython2",
   "version": "2.7.6"
  }
 },
 "nbformat": 4,
 "nbformat_minor": 0
}