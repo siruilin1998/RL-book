{
 "cells": [
  {
   "cell_type": "code",
   "source": [
    "from typing import Iterator, Iterable, Mapping, Callable, Sequence\n",
    "import numpy as np\n",
    "from rl.markov_process import NonTerminal, TransitionStep\n",
    "from rl.approximate_dynamic_programming import S,A"
   ],
   "metadata": {
    "collapsed": false,
    "pycharm": {
     "name": "#%%\n"
    }
   },
   "execution_count": 31,
   "outputs": []
  },
  {
   "cell_type": "markdown",
   "metadata": {
    "collapsed": true,
    "pycharm": {
     "name": "#%% md\n"
    }
   },
   "source": [
    "Question 1. (LSTD covered in the class)"
   ]
  },
  {
   "cell_type": "code",
   "execution_count": 116,
   "outputs": [],
   "source": [
    "def lstd_prediction(\n",
    "    transitions: Iterable[TransitionStep[S]],\n",
    "    feature_functions: Sequence[Callable[[NonTerminal[S]], float]],\n",
    "    gamma: float,\n",
    "    epsilon: float\n",
    ") -> Callable[[NonTerminal[S]], float]:\n",
    "    num_features: int = len(feature_functions)\n",
    "    a: np.ndarray = np.eye(num_features) * epsilon\n",
    "    b_vec: np.ndarray = np.zeros(num_features)\n",
    "    for tr in transitions:\n",
    "        phi1: np.ndarray = np.array([f(tr.state) for f in feature_functions])\n",
    "        if isinstance(tr.next_state, NonTerminal):\n",
    "            phi2 = phi1 - gamma * np.array([f(tr.next_state)\n",
    "                                                for f in feature_functions])\n",
    "        else:\n",
    "            phi2 = phi1\n",
    "        update: np.ndarray = np.outer(phi1, phi2)\n",
    "        a += update\n",
    "        b_vec += phi1 * tr.reward\n",
    "\n",
    "    a_inv = np.linalg.inv(a)\n",
    "    opt_wts: np.ndarray = a_inv.dot(b_vec)\n",
    "\n",
    "    return lambda s: np.dot(np.array(\n",
    "            [f(s) for f in feature_functions]\n",
    "            ), opt_wts)"
   ],
   "metadata": {
    "collapsed": false,
    "pycharm": {
     "name": "#%%\n"
    }
   }
  },
  {
   "cell_type": "code",
   "execution_count": 117,
   "outputs": [],
   "source": [
    "#construct test process\n",
    "from rl.chapter10.random_walk_mrp import RandomWalkMRP\n",
    "from rl.iterate import iterate\n",
    "import itertools\n",
    "from rl.approximate_dynamic_programming import NTStateDistribution\n",
    "from rl.distribution import Choose\n",
    "\n",
    "this_barrier: int = 20\n",
    "this_p: float = 0.55\n",
    "random_walk: RandomWalkMRP = RandomWalkMRP(\n",
    "             barrier=this_barrier,\n",
    "             p=this_p\n",
    ")\n",
    "gamma = 1.0\n",
    "true_vf: np.ndarray = random_walk.get_value_function_vec(gamma=gamma)\n",
    "\n",
    "num_transitions: int = 10000\n",
    "nt_states: Sequence[NonTerminal[int]] = random_walk.non_terminal_states\n",
    "start_distribution: NTStateDistribution[int] = Choose(set(nt_states))\n",
    "traces: Iterable[Iterable[TransitionStep[int]]] = \\\n",
    "    random_walk.reward_traces(start_distribution)\n",
    "transitions: Iterable[TransitionStep[int]] = \\\n",
    "    itertools.chain.from_iterable(traces)\n",
    "lstd_transitions: Iterable[TransitionStep[int]] = \\\n",
    "    itertools.islice(transitions, num_transitions)"
   ],
   "metadata": {
    "collapsed": false,
    "pycharm": {
     "name": "#%%\n"
    }
   }
  },
  {
   "cell_type": "code",
   "execution_count": null,
   "outputs": [],
   "source": [
    "#simple test\n",
    "from rl.chapter12.laguerre import laguerre_state_features\n",
    "from rl.function_approx import LinearFunctionApprox\n",
    "\n",
    "num_polynomials:int = 5\n",
    "features: Sequence[Callable[[NonTerminal[int]], float]] = \\\n",
    "    laguerre_state_features(num_polynomials)\n",
    "epsilon: float = 1e-4\n",
    "\n",
    "lstd_func_test: Linear_Approx = \\\n",
    "    lstd_prediction(\n",
    "        transitions = lstd_transitions,\n",
    "        feature_functions = features,\n",
    "        gamma = gamma,\n",
    "        epsilon = epsilon\n",
    "    )\n",
    "lstd_vf_test: np.ndarray = np.array([lstd_func_test(s) for s in nt_states])\n",
    "\n",
    "x_vals: Sequence[int] = [s.state for s in nt_states]\n",
    "\n",
    "from rl.gen_utils.plot_funcs import plot_list_of_curves\n",
    "\n",
    "plot_list_of_curves(\n",
    "    [x_vals, x_vals],\n",
    "    [true_vf, lstd_vf_test],\n",
    "    [\"b\", \"g\"],\n",
    "    [\"True Value Function\", \"self-made LSTD Function\"],\n",
    "    x_label=\"States\",\n",
    "    y_label=\"Value Function\",\n",
    "    title=\"LSTD and self-made LSTD versus True Value Function\"\n",
    ")"
   ],
   "metadata": {
    "collapsed": false,
    "pycharm": {
     "name": "#%%\n",
     "is_executing": true
    }
   }
  },
  {
   "cell_type": "markdown",
   "source": [
    "Question 3. (LSPI customized for American Options Pricing)"
   ],
   "metadata": {
    "collapsed": false,
    "pycharm": {
     "name": "#%% md\n"
    }
   }
  },
  {
   "cell_type": "code",
   "execution_count": null,
   "outputs": [],
   "source": [],
   "metadata": {
    "collapsed": false,
    "pycharm": {
     "name": "#%%\n"
    }
   }
  }
 ],
 "metadata": {
  "kernelspec": {
   "display_name": "Python 3",
   "language": "python",
   "name": "python3"
  },
  "language_info": {
   "codemirror_mode": {
    "name": "ipython",
    "version": 2
   },
   "file_extension": ".py",
   "mimetype": "text/x-python",
   "name": "python",
   "nbconvert_exporter": "python",
   "pygments_lexer": "ipython2",
   "version": "2.7.6"
  }
 },
 "nbformat": 4,
 "nbformat_minor": 0
}